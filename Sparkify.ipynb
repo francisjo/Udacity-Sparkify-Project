{
 "cells": [
  {
   "cell_type": "markdown",
   "metadata": {},
   "source": [
    "# Sparkify Project Workspace\n",
    "This workspace contains a tiny subset (128MB) of the full dataset available (12GB). Feel free to use this workspace to build your project, or to explore a smaller subset with Spark before deploying your cluster on the cloud. Instructions for setting up your Spark cluster is included in the last lesson of the Extracurricular Spark Course content.\n",
    "\n",
    "You can follow the steps below to guide your data analysis and model building portion of this project."
   ]
  },
  {
   "cell_type": "code",
   "execution_count": 1,
   "metadata": {},
   "outputs": [],
   "source": [
    "# import libraries\n",
    "import re\n",
    "%matplotlib inline\n",
    "import matplotlib.pyplot as plt\n",
    "import numpy as np\n",
    "import pandas as pd\n",
    "import seaborn as sns\n",
    "import datetime\n",
    "\n",
    "import pyspark\n",
    "from pyspark.ml.evaluation import MulticlassClassificationEvaluator\n",
    "from pyspark.sql.types import IntegerType\n",
    "from pyspark.ml.classification import LogisticRegression, GBTClassifier,LinearSVC\n",
    "from pyspark.sql.functions import col, udf\n",
    "from pyspark.ml.feature import VectorAssembler, StandardScaler\n",
    "from pyspark.ml.tuning import CrossValidator, ParamGridBuilder\n",
    "from pyspark.sql.functions import avg, explode, concat, lit, min, max, split, udf, isnull, col, desc,isnan, udf, isnull,sum\n",
    "from pyspark.sql import Window"
   ]
  },
  {
   "cell_type": "code",
   "execution_count": 2,
   "metadata": {},
   "outputs": [],
   "source": [
    "# create a Spark session\n",
    "spark  = pyspark.sql.SparkSession.builder.getOrCreate()"
   ]
  },
  {
   "cell_type": "markdown",
   "metadata": {},
   "source": [
    "# Load and Clean Dataset\n",
    "In this workspace, the mini-dataset file is `mini_sparkify_event_data.json`. Load and clean the dataset, checking for invalid or missing data - for example, records without userids or sessionids. "
   ]
  },
  {
   "cell_type": "code",
   "execution_count": 3,
   "metadata": {},
   "outputs": [],
   "source": [
    "df = spark.read.json(\"mini_sparkify_event_data.json\")"
   ]
  },
  {
   "cell_type": "code",
   "execution_count": 4,
   "metadata": {},
   "outputs": [
    {
     "name": "stdout",
     "output_type": "stream",
     "text": [
      "root\n",
      " |-- artist: string (nullable = true)\n",
      " |-- auth: string (nullable = true)\n",
      " |-- firstName: string (nullable = true)\n",
      " |-- gender: string (nullable = true)\n",
      " |-- itemInSession: long (nullable = true)\n",
      " |-- lastName: string (nullable = true)\n",
      " |-- length: double (nullable = true)\n",
      " |-- level: string (nullable = true)\n",
      " |-- location: string (nullable = true)\n",
      " |-- method: string (nullable = true)\n",
      " |-- page: string (nullable = true)\n",
      " |-- registration: long (nullable = true)\n",
      " |-- sessionId: long (nullable = true)\n",
      " |-- song: string (nullable = true)\n",
      " |-- status: long (nullable = true)\n",
      " |-- ts: long (nullable = true)\n",
      " |-- userAgent: string (nullable = true)\n",
      " |-- userId: string (nullable = true)\n",
      "\n"
     ]
    }
   ],
   "source": [
    "df.printSchema()"
   ]
  },
  {
   "cell_type": "code",
   "execution_count": 5,
   "metadata": {},
   "outputs": [],
   "source": [
    "def info(df):\n",
    "    df_info = pd.DataFrame(columns = ['Feature','#Nullvalues','#Empetystring','#NonNullvalues','%Non-nullvalues'])\n",
    "    #Check the number of null rows in each column\n",
    "    #print(\"Feature : Null row count : emptystring_count : Non-Null row count: Non-null precentage\")\n",
    "    i = 0\n",
    "    row_count = df.count()\n",
    "    for col in df.columns:\n",
    "        null_count = df.filter(isnull(df[col])).count()\n",
    "        emptystring_count = df.filter(df[col].isin('')).count()\n",
    "        df_info.loc[i] = [col,null_count,emptystring_count,(row_count-null_count),(row_count-null_count)/row_count]\n",
    "        i +=1\n",
    "    print(df_info)    "
   ]
  },
  {
   "cell_type": "code",
   "execution_count": 6,
   "metadata": {},
   "outputs": [
    {
     "name": "stdout",
     "output_type": "stream",
     "text": [
      "          Feature #Nullvalues #Emptystring #NonNullvalues  %Non-nullvalues\n",
      "0          artist       58392            0         228108         0.796188\n",
      "1            auth           0            0         286500         1.000000\n",
      "2       firstName        8346            0         278154         0.970869\n",
      "3          gender        8346            0         278154         0.970869\n",
      "4   itemInSession           0            0         286500         1.000000\n",
      "5        lastName        8346            0         278154         0.970869\n",
      "6          length       58392            0         228108         0.796188\n",
      "7           level           0            0         286500         1.000000\n",
      "8        location        8346            0         278154         0.970869\n",
      "9          method           0            0         286500         1.000000\n",
      "10           page           0            0         286500         1.000000\n",
      "11   registration        8346            0         278154         0.970869\n",
      "12      sessionId           0            0         286500         1.000000\n",
      "13           song       58392            0         228108         0.796188\n",
      "14         status           0            0         286500         1.000000\n",
      "15             ts           0            0         286500         1.000000\n",
      "16      userAgent        8346            0         278154         0.970869\n",
      "17         userId           0         8346         286500         1.000000\n"
     ]
    }
   ],
   "source": [
    "info(df)"
   ]
  },
  {
   "cell_type": "code",
   "execution_count": 7,
   "metadata": {},
   "outputs": [
    {
     "name": "stdout",
     "output_type": "stream",
     "text": [
      "The number of rows in the dataframe is 286500\n",
      "The number of columns in the dataframe is 18\n",
      "+-------+------------------+----------+---------+------+------------------+--------+\n",
      "|summary|            artist|      auth|firstName|gender|     itemInSession|lastName|\n",
      "+-------+------------------+----------+---------+------+------------------+--------+\n",
      "|  count|            228108|    286500|   278154|278154|            286500|  278154|\n",
      "|   mean| 551.0852017937219|      null|     null|  null|114.41421291448516|    null|\n",
      "| stddev|1217.7693079161374|      null|     null|  null|129.76726201140994|    null|\n",
      "|    min|               !!!| Cancelled| Adelaida|     F|                 0|   Adams|\n",
      "|    max| ÃÂlafur Arnalds|Logged Out|   Zyonna|     M|              1321|  Wright|\n",
      "+-------+------------------+----------+---------+------+------------------+--------+\n",
      "\n",
      "+-------+-----------------+------+-----------------+------+-------+--------------------+-----------------+\n",
      "|summary|           length| level|         location|method|   page|        registration|        sessionId|\n",
      "+-------+-----------------+------+-----------------+------+-------+--------------------+-----------------+\n",
      "|  count|           228108|286500|           278154|286500| 286500|              278154|           286500|\n",
      "|   mean|249.1171819778458|  null|             null|  null|   null|1.535358834084427...|1041.526554973822|\n",
      "| stddev|99.23517921058361|  null|             null|  null|   null| 3.291321616327586E9|726.7762634630741|\n",
      "|    min|          0.78322|  free|       Albany, OR|   GET|  About|       1521380675000|                1|\n",
      "|    max|       3024.66567|  paid|Winston-Salem, NC|   PUT|Upgrade|       1543247354000|             2474|\n",
      "+-------+-----------------+------+-----------------+------+-------+--------------------+-----------------+\n",
      "\n",
      "+-------+--------------------+------------------+--------------------+--------------------+-----------------+\n",
      "|summary|                song|            status|                  ts|           userAgent|           userId|\n",
      "+-------+--------------------+------------------+--------------------+--------------------+-----------------+\n",
      "|  count|              228108|            286500|              286500|              278154|           286500|\n",
      "|   mean|            Infinity|210.05459685863875|1.540956889810483...|                null|59682.02278593872|\n",
      "| stddev|                 NaN| 31.50507848842214|1.5075439608226302E9|                null|109091.9499991047|\n",
      "|    min|\u001c",
      "ÃÂg ÃÂtti Gr...|               200|       1538352117000|\"Mozilla/5.0 (Mac...|                 |\n",
      "|    max|ÃÂau hafa slopp...|               404|       1543799476000|Mozilla/5.0 (comp...|               99|\n",
      "+-------+--------------------+------------------+--------------------+--------------------+-----------------+\n",
      "\n"
     ]
    }
   ],
   "source": [
    "row_count = df.count()\n",
    "print(\"The number of rows in the dataframe is {}\".format(df.count()))\n",
    "print(\"The number of columns in the dataframe is {}\".format(len(df.columns)))\n",
    "df.describe(df.columns[:6]).show()\n",
    "df.describe(df.columns[6:13]).show()\n",
    "df.describe(df.columns[13:]).show()"
   ]
  },
  {
   "cell_type": "code",
   "execution_count": 5,
   "metadata": {},
   "outputs": [],
   "source": [
    "# drop any cells with missing user id or session id\n",
    "df = df.dropna(how = 'any', subset = ['userId', 'sessionId'])"
   ]
  },
  {
   "cell_type": "code",
   "execution_count": 6,
   "metadata": {},
   "outputs": [],
   "source": [
    "#Remove records with empty userId\n",
    "df = df.filter(df['userId'] != '')"
   ]
  },
  {
   "cell_type": "code",
   "execution_count": 10,
   "metadata": {},
   "outputs": [
    {
     "name": "stdout",
     "output_type": "stream",
     "text": [
      "The number of rows in the dataframe is 278154\n",
      "The number of columns in the dataframe is 18\n"
     ]
    }
   ],
   "source": [
    "print(\"The number of rows in the dataframe is {}\".format(df.count()))\n",
    "print(\"The number of columns in the dataframe is {}\".format(len(df.columns)))"
   ]
  },
  {
   "cell_type": "markdown",
   "metadata": {},
   "source": [
    "# Exploratory Data Analysis\n",
    "When you're working with the full dataset, perform EDA by loading a small subset of the data and doing basic manipulations within Spark. In this workspace, you are already provided a small subset of data you can explore.\n",
    "\n",
    "### Define Churn\n",
    "\n",
    "Once you've done some preliminary analysis, create a column `Churn` to use as the label for your model. I suggest using the `Cancellation Confirmation` events to define your churn, which happen for both paid and free users. As a bonus task, you can also look into the `Downgrade` events.\n",
    "\n",
    "### Explore Data\n",
    "Once you've defined churn, perform some exploratory data analysis to observe the behavior for users who stayed vs users who churned. You can start by exploring aggregates on these two groups of users, observing how much of a specific action they experienced per a certain time unit or number of songs played."
   ]
  },
  {
   "cell_type": "code",
   "execution_count": 7,
   "metadata": {},
   "outputs": [],
   "source": [
    "# clearly represent registration and timestamp by creating new columns\n",
    "new_ts = udf(lambda x: datetime.datetime.fromtimestamp(x / 1000.0).strftime(\"%m-%d-%Y %H:%M:%S\"))\n",
    "df = df.withColumn('updated_registration', new_ts('registration'))\n",
    "df = df.withColumn('updated_ts', new_ts('ts'))"
   ]
  },
  {
   "cell_type": "code",
   "execution_count": 29,
   "metadata": {},
   "outputs": [],
   "source": [
    "# add a new column \"downgrade_value\" to mark Submit Downgrade\n",
    "downgrade_value  = udf(lambda x: 1 if x == \"Submit Downgrade\" else 0, IntegerType())\n",
    "df = df.withColumn(\"downgrade_value\", downgrade_value(\"page\"))\n",
    "\n",
    "# label users who have downgraded\n",
    "dg_window = Window.partitionBy('UserId')\n",
    "df = df.withColumn(\"user_downgrade\", max('downgrade_value').over(dg_window))\n",
    "\n",
    "# add a new column \"churn_value\" to mark cancellation event\n",
    "churn_value = udf(lambda x: 1 if x == 'Cancellation Confirmation' else 0, IntegerType())\n",
    "df = df.withColumn(\"churn_value\", churn_value(\"page\"))\n",
    "\n",
    "# label users who have churned\n",
    "churn_window = Window.partitionBy(\"userId\").rangeBetween(Window.unboundedPreceding, Window.unboundedFollowing)\n",
    "df = df.withColumn(\"user_churn\", sum('churn_value').over(churn_window))"
   ]
  },
  {
   "cell_type": "code",
   "execution_count": 13,
   "metadata": {},
   "outputs": [
    {
     "data": {
      "text/plain": [
       "Text(0.5,0,'Subscription status')"
      ]
     },
     "execution_count": 13,
     "metadata": {},
     "output_type": "execute_result"
    },
    {
     "data": {
      "image/png": "[encoded data removed]",
      "text/plain": [
       "<matplotlib.figure.Figure at 0x7fce57f092e8>"
      ]
     },
     "metadata": {
      "needs_background": "light"
     },
     "output_type": "display_data"
    }
   ],
   "source": [
    "plt.grid(True)\n",
    "df_ch_pd = df.drop_duplicates(['userId']).groupby(['user_churn']).count().sort(\"user_churn\").toPandas()\n",
    "sns.barplot(data =df_ch_pd, x = 'user_churn',y = 'count')\n",
    "churn_d = ['Active', 'Cancelled']\n",
    "x_pos = np.arange(len(churn_d))\n",
    "plt.xticks(x_pos,churn_d)\n",
    "plt.title('Number of unique users by Subscription status')\n",
    "plt.ylabel('Number of users')\n",
    "plt.xlabel('Subscription status')"
   ]
  },
  {
   "cell_type": "code",
   "execution_count": null,
   "metadata": {},
   "outputs": [],
   "source": [
    "df_pandas = df.toPandas()"
   ]
  },
  {
   "cell_type": "code",
   "execution_count": 14,
   "metadata": {},
   "outputs": [
    {
     "data": {
      "text/plain": [
       "Text(0.5,0,'Subscription status')"
      ]
     },
     "execution_count": 14,
     "metadata": {},
     "output_type": "execute_result"
    },
    {
     "data": {
      "image/png": "[encoded data removed]",
      "text/plain": [
       "<matplotlib.figure.Figure at 0x7fce55e065f8>"
      ]
     },
     "metadata": {
      "needs_background": "light"
     },
     "output_type": "display_data"
    }
   ],
   "source": [
    "# Plotting a bar plot to show gender distribution by Subscription status\n",
    "plt.grid(True)\n",
    "df_ch_pd = df.drop_duplicates(['userId', 'gender']).groupby(['user_churn', 'gender']).count().sort(\"user_churn\").toPandas()\n",
    "sns.barplot(x = 'user_churn', y = 'count', data = df_ch_pd, hue = 'gender')\n",
    "churn_d = ['Active', 'Cancelled']\n",
    "y_pos = np.arange(len(churn_d))\n",
    "plt.xticks(y_pos,churn_d)\n",
    "plt.title(\"Gender distribution by Subscription status\")\n",
    "plt.ylabel('Number of users')\n",
    "plt.xlabel('Subscription status')"
   ]
  },
  {
   "cell_type": "code",
   "execution_count": 66,
   "metadata": {},
   "outputs": [
    {
     "data": {
      "text/plain": [
       "Text(0.5,0,'Subscription status')"
      ]
     },
     "execution_count": 66,
     "metadata": {},
     "output_type": "execute_result"
    },
    {
     "data": {
      "image/png": "[encoded data removed]",
      "text/plain": [
       "<matplotlib.figure.Figure at 0x7fa3d0e8fb00>"
      ]
     },
     "metadata": {
      "needs_background": "light"
     },
     "output_type": "display_data"
    }
   ],
   "source": [
    "# Plotting a bar plot to show level distribution by Subscription status\n",
    "plt.grid(True)\n",
    "level_df = df.drop_duplicates(['userId','churn_value', 'level']).groupby(['churn_value', 'level']).count().sort(\"churn_value\").toPandas()\n",
    "sns.barplot(x = 'churn_value', y = 'count', data = level_df, hue = 'level')\n",
    "churn_d = ['Active', 'Cancelled']\n",
    "x_pos = np.arange(len(churn_d))\n",
    "plt.xticks(x_pos,churn_d)\n",
    "plt.title(\"Free\\Paid levels distribution by Subscription status\")\n",
    "plt.ylabel('Number of users')\n",
    "plt.xlabel('Subscription status')"
   ]
  },
  {
   "cell_type": "code",
   "execution_count": 76,
   "metadata": {},
   "outputs": [
    {
     "data": {
      "text/plain": [
       "Text(0.5,0,'% of envents')"
      ]
     },
     "execution_count": 76,
     "metadata": {},
     "output_type": "execute_result"
    },
    {
     "data": {
      "image/png": "[encoded data removed]",
      "text/plain": [
       "<matplotlib.figure.Figure at 0x7fa3cbd4e940>"
      ]
     },
     "metadata": {
      "needs_background": "light"
     },
     "output_type": "display_data"
    }
   ],
   "source": [
    "page_df = df.groupby(['page','user_churn']).count().toPandas()\n",
    "page_df = page_df[page_df['page'] != 'NextSong']\n",
    "page_df = ((page_df.groupby(['page','user_churn']).sum()/page_df.groupby(['user_churn']).sum())*100).reset_index()\n",
    "page_df['user_churn'].replace({0:'Active', 1: 'Cancelled'},inplace = True)\n",
    "plt.figure(figsize=(8,10))\n",
    "plt.grid(True)\n",
    "sns.barplot(y = 'page', x = 'count', data = page_df, hue = 'user_churn')\n",
    "plt.title(\" % of events by Subscription status\")\n",
    "sns.set_hls_values\n",
    "plt.ylabel('Eventes')\n",
    "plt.xlabel('% of envents')"
   ]
  },
  {
   "cell_type": "code",
   "execution_count": 69,
   "metadata": {},
   "outputs": [],
   "source": [
    "get_hour = udf(lambda x: datetime.datetime.fromtimestamp(x / 1000.0).hour)\n",
    "df = df.withColumn(\"hour\", get_hour(df.ts))\n",
    "\n",
    "get_weekday = udf(lambda x: datetime.datetime.fromtimestamp(x / 1000.0).strftime(\"%w\"))\n",
    "df = df.withColumn(\"weekday\", get_weekday(df.ts))\n",
    "\n",
    "get_day = udf(lambda x: datetime.datetime.fromtimestamp(x / 1000.0).day)\n",
    "df = df.withColumn(\"day\", get_day(df.ts))"
   ]
  },
  {
   "cell_type": "code",
   "execution_count": 73,
   "metadata": {},
   "outputs": [
    {
     "data": {
      "text/plain": [
       "Text(0.5,0,'Hour')"
      ]
     },
     "execution_count": 73,
     "metadata": {},
     "output_type": "execute_result"
    },
    {
     "data": {
      "image/png": "[encoded data removed]",
      "text/plain": [
       "<matplotlib.figure.Figure at 0x7fa3d0f173c8>"
      ]
     },
     "metadata": {
      "needs_background": "light"
     },
     "output_type": "display_data"
    }
   ],
   "source": [
    "hour_df = df.groupby(['hour','user_churn']).count().toPandas()\n",
    "hour_df1 = ((hour_df.groupby(['hour','user_churn']).sum()/hour_df.groupby(['user_churn']).sum())*100).reset_index()\n",
    "hour_df1['hour'] = hour_df1['hour'].astype(int)\n",
    "hour_df1['user_churn'].replace({0:'Active', 1: 'Cancelled'},inplace = True)\n",
    "hour_df1.sort_values(by = 'hour', ascending=True,inplace = True)\n",
    "plt.figure(figsize=(16,4))\n",
    "sns.barplot(x = 'hour', y = 'count', data = hour_df1, hue = 'user_churn')\n",
    "plt.title(\" % of users who took action hourly\")\n",
    "sns.set_hls_values\n",
    "plt.ylabel('% of users')\n",
    "plt.xlabel('Hour')"
   ]
  },
  {
   "cell_type": "code",
   "execution_count": 74,
   "metadata": {},
   "outputs": [
    {
     "data": {
      "text/plain": [
       "Text(0.5,0,'Weekdays')"
      ]
     },
     "execution_count": 74,
     "metadata": {},
     "output_type": "execute_result"
    },
    {
     "data": {
      "image/png": "[encoded data removed]",
      "text/plain": [
       "<matplotlib.figure.Figure at 0x7fa3d05142e8>"
      ]
     },
     "metadata": {
      "needs_background": "light"
     },
     "output_type": "display_data"
    }
   ],
   "source": [
    "weekday_df = df.groupby(['weekday','user_churn']).count().toPandas()\n",
    "weekday_df = ((weekday_df.groupby(['weekday','user_churn']).sum()/weekday_df.groupby(['user_churn']).sum())*100).reset_index()\n",
    "weekday_df['weekday'] = weekday_df['weekday'].astype(int)\n",
    "weekday_df['user_churn'].replace({0:'Active', 1: 'Cancelled'},inplace = True)\n",
    "weekday_df.sort_values(by = 'weekday', ascending=True,inplace = True)\n",
    "plt.figure(figsize=(16,4))\n",
    "sns.barplot(x = 'weekday', y = 'count', data = weekday_df, hue = 'user_churn')\n",
    "churn_d = ['Mon', 'Tue', 'Wed', 'Thu', 'Fri', 'Sat', 'Sun']\n",
    "x_pos = np.arange(len(churn_d))\n",
    "plt.xticks(x_pos,churn_d)\n",
    "plt.title(\" % of users who took action per weekday\")\n",
    "plt.ylabel('% of users')\n",
    "plt.xlabel('Weekdays')"
   ]
  },
  {
   "cell_type": "code",
   "execution_count": 77,
   "metadata": {},
   "outputs": [
    {
     "data": {
      "text/plain": [
       "Text(0.5,0,'day of month')"
      ]
     },
     "execution_count": 77,
     "metadata": {},
     "output_type": "execute_result"
    },
    {
     "data": {
      "image/png": "[encoded data removed]",
      "text/plain": [
       "<matplotlib.figure.Figure at 0x7fa3cbb64a58>"
      ]
     },
     "metadata": {
      "needs_background": "light"
     },
     "output_type": "display_data"
    }
   ],
   "source": [
    "day_df = df.groupby(['day','user_churn']).count().toPandas()\n",
    "day_df = ((day_df.groupby(['day','user_churn']).sum()/day_df.groupby(['user_churn']).sum())*100).reset_index()\n",
    "day_df['day'] = day_df['day'].astype(int)\n",
    "day_df['user_churn'].replace({0:'Active', 1: 'Cancelled'},inplace = True)\n",
    "day_df.sort_values(by = 'day', ascending=True,inplace = True)\n",
    "plt.figure(figsize=(16,4))\n",
    "sns.barplot(x = 'day', y = 'count', data = day_df, hue = 'user_churn')\n",
    "plt.title(\" % of users who took action daily\")\n",
    "plt.ylabel('% of users')\n",
    "plt.xlabel('day of month')"
   ]
  },
  {
   "cell_type": "markdown",
   "metadata": {},
   "source": [
    "# Feature Engineering\n",
    "Once you've familiarized yourself with the data, build out the features you find promising to train your model on. To work with the full dataset, you can follow the following steps.\n",
    "- Write a script to extract the necessary features from the smaller subset of data\n",
    "- Ensure that your script is scalable, using the best practices discussed in Lesson 3\n",
    "- Try your script on the full data set, debugging your script if necessary\n",
    "\n",
    "If you are working in the classroom workspace, you can just extract features based on the small subset of data contained here. Be sure to transfer over this work to the larger dataset when you work on your Spark cluster."
   ]
  },
  {
   "cell_type": "code",
   "execution_count": 10,
   "metadata": {},
   "outputs": [],
   "source": [
    "# Feature 1 : Total number of  songs listened\n",
    "feat_1 = df.select('userId', 'song').groupBy('userId').count().withColumnRenamed('count', 'tot_songs')\n"
   ]
  },
  {
   "cell_type": "code",
   "execution_count": 11,
   "metadata": {},
   "outputs": [],
   "source": [
    "# Feature 2 : Total time spent \n",
    "feat_2 = df.select('userID','length').groupBy('userID').agg({'length':'sum'}).withColumnRenamed('sum(length)', 'listen_time')\n"
   ]
  },
  {
   "cell_type": "code",
   "execution_count": 12,
   "metadata": {},
   "outputs": [],
   "source": [
    "# Feature 3 : Number of thumbs-up, Feature 4 : thumbs-down\n",
    "feat_3 = df.select('userID','page').where(df.page == 'Thumbs Up').groupBy('userID').agg({'page':'count'}).withColumnRenamed('count(page)', 'num_thumb_up')\n",
    "feat_4 = df .select('userID','page').where(df.page == 'Thumbs Down').groupBy('userID').agg({'page':'count'}).withColumnRenamed('count(page)', 'num_thumb_down')"
   ]
  },
  {
   "cell_type": "code",
   "execution_count": 13,
   "metadata": {},
   "outputs": [],
   "source": [
    "# Feature 5 : Number of adds to playlist\n",
    "feat_5 = df.select('userID','page').where(df.page == 'Add to Playlist').groupBy('userID').agg({'page':'count'}).withColumnRenamed('count(page)', 'add_to_playlist')"
   ]
  },
  {
   "cell_type": "code",
   "execution_count": 14,
   "metadata": {},
   "outputs": [],
   "source": [
    "# Feature 6 : Number of lifetime\n",
    "feat_6 = df.select('userID','registration','ts').withColumn('lifetime',(df.ts-df.registration)).groupBy('userID').agg({'lifetime':'max'}).withColumnRenamed('max(lifetime)','lt')"
   ]
  },
  {
   "cell_type": "code",
   "execution_count": 15,
   "metadata": {},
   "outputs": [],
   "source": [
    "# Feature 7 : Total number of friends\n",
    "feat_7 = df.select('userId', 'page').where(df.page == 'Add Friend').groupBy('userId').count().withColumnRenamed('count', 'tot_friends')"
   ]
  },
  {
   "cell_type": "code",
   "execution_count": 16,
   "metadata": {},
   "outputs": [],
   "source": [
    "# Feature 8 : Gender of the user\n",
    "feat_8 = df.select('userId', 'gender').dropDuplicates().replace(['F', 'M'], ['0', '1'], 'gender').select('userId', col('gender').cast('int'))"
   ]
  },
  {
   "cell_type": "code",
   "execution_count": 17,
   "metadata": {},
   "outputs": [],
   "source": [
    "# Feature 9: Number of help AND  Feature 10 : Number of rolladvert\n",
    "feat_9 = df.select('userID','page').where(df.page == 'Help').groupBy('userID').agg({'page':'count'}).withColumnRenamed('count(page)', 'help') \n",
    "feat_10 = df.select('userID','page').where(df.page == 'Roll Advert').groupBy('userID').agg({'page':'count'}).withColumnRenamed('count(page)', 'rolladvert')"
   ]
  },
  {
   "cell_type": "code",
   "execution_count": 18,
   "metadata": {},
   "outputs": [],
   "source": [
    "# Feature 11 : Total number of songs listened per session\n",
    "feat_11  = df.where('page == \"NextSong\"').groupby(['userId', 'sessionId']).count().groupby('userId')\\\n",
    "          .agg({'count' : 'avg'}).withColumnRenamed('avg(count)', 'avg_played_songs')"
   ]
  },
  {
   "cell_type": "code",
   "execution_count": 19,
   "metadata": {},
   "outputs": [],
   "source": [
    "# Feature 12 : Total number of artists the user has listened to\n",
    "feat_12 = df.filter(df.page == \"NextSong\").select(\"userId\", \"artist\").dropDuplicates().groupby(\"userId\").count()\\\n",
    "         .withColumnRenamed(\"count\", \"tot_artist_played\")\n"
   ]
  },
  {
   "cell_type": "code",
   "execution_count": 20,
   "metadata": {},
   "outputs": [],
   "source": [
    "# setting the churn label for our model\n",
    "target = df.select('userId', col('user_churn').alias('label')).dropDuplicates()"
   ]
  },
  {
   "cell_type": "code",
   "execution_count": 21,
   "metadata": {},
   "outputs": [],
   "source": [
    "# Combining all features with the target churn label\n",
    "final_data  = feat_1.join(feat_2,'userID','outer') \\\n",
    "    .join(feat_3,'userID','outer') \\\n",
    "    .join(feat_4,'userID','outer') \\\n",
    "    .join(feat_5,'userID','outer') \\\n",
    "    .join(feat_6,'userID','outer') \\\n",
    "    .join(feat_7,'userID','outer') \\\n",
    "    .join(feat_8,'userID','outer') \\\n",
    "    .join(feat_9,'userID','outer') \\\n",
    "    .join(feat_10,'userID','outer') \\\n",
    "    .join(feat_11,'userID','outer') \\\n",
    "    .join(feat_12,'userID','outer') \\\n",
    "    .join(target,'userID','outer') \\\n",
    "    .drop('userID') \\\n",
    "    .fillna(0)"
   ]
  },
  {
   "cell_type": "code",
   "execution_count": 22,
   "metadata": {},
   "outputs": [
    {
     "name": "stdout",
     "output_type": "stream",
     "text": [
      "+---------+------------------+------------+--------------+---------------+-----------+-----------+------+----+----------+------------------+-----------------+-----+\n",
      "|tot_songs|       listen_time|num_thumb_up|num_thumb_down|add_to_playlist|         lt|tot_friends|gender|help|rolladvert|  avg_played_songs|tot_artist_played|label|\n",
      "+---------+------------------+------------+--------------+---------------+-----------+-----------+------+----+----------+------------------+-----------------+-----+\n",
      "|      381| 66940.89735000003|          17|             5|              7| 4807612000|          4|     0|   2|        52|39.285714285714285|              252|    0|\n",
      "|      474| 94008.87593999993|          21|             6|              8| 6054448000|          4|     1|   2|         7|              64.5|              339|    0|\n",
      "|       11|2089.1131000000005|           0|             0|              0| 6161779000|          0|     1|   0|         1|               8.0|                8|    1|\n",
      "|     4825|1012312.0927899999|         171|            41|            118|11366431000|         74|     0|  23|         4|145.67857142857142|             2232|    0|\n",
      "|     2464| 523275.8428000004|         100|            21|             52| 1680985000|         28|     1|  12|         0|             211.1|             1385|    1|\n",
      "+---------+------------------+------------+--------------+---------------+-----------+-----------+------+----+----------+------------------+-----------------+-----+\n",
      "only showing top 5 rows\n",
      "\n"
     ]
    }
   ],
   "source": [
    "final_data.show(5)"
   ]
  },
  {
   "cell_type": "code",
   "execution_count": 23,
   "metadata": {},
   "outputs": [],
   "source": [
    "incol = ['tot_songs',\n",
    " 'listen_time',\n",
    " 'num_thumb_up',\n",
    " 'num_thumb_down',\n",
    " 'add_to_playlist',\n",
    " 'lt',\n",
    " 'tot_friends',\n",
    " 'gender',\n",
    " 'help',\n",
    " 'rolladvert',\n",
    " 'avg_played_songs',\n",
    " 'tot_artist_played']\n",
    "assembler = VectorAssembler(inputCols=incol, outputCol=\"NumFeatures\")\n",
    "final_data = assembler.transform(final_data)"
   ]
  },
  {
   "cell_type": "code",
   "execution_count": 24,
   "metadata": {},
   "outputs": [],
   "source": [
    "scaler2 = StandardScaler(inputCol=\"NumFeatures\", outputCol=\"features\", withStd=True)\n",
    "scalerModel = scaler2.fit(final_data)\n",
    "final_data = scalerModel.transform(final_data)"
   ]
  },
  {
   "cell_type": "code",
   "execution_count": 37,
   "metadata": {},
   "outputs": [
    {
     "data": {
      "text/plain": [
       "[Row(tot_songs=381, listen_time=66940.89735000003, num_thumb_up=17, num_thumb_down=5, add_to_playlist=7, lt=4807612000, tot_friends=4, gender=0, help=2, rolladvert=52, avg_played_songs=39.285714285714285, tot_artist_played=252, label=0, NumFeatures=DenseVector([381.0, 66940.8974, 17.0, 5.0, 7.0, 4807612000.0, 4.0, 0.0, 2.0, 52.0, 39.2857, 252.0]), features=DenseVector([0.2866, 0.2431, 0.2596, 0.3823, 0.214, 1.4775, 0.1943, 0.0, 0.2761, 2.413, 0.9219, 0.4173])),\n",
       " Row(tot_songs=474, listen_time=94008.87593999993, num_thumb_up=21, num_thumb_down=6, add_to_playlist=8, lt=6054448000, tot_friends=4, gender=1, help=2, rolladvert=7, avg_played_songs=64.5, tot_artist_played=339, label=0, NumFeatures=DenseVector([474.0, 94008.8759, 21.0, 6.0, 8.0, 6054448000.0, 4.0, 1.0, 2.0, 7.0, 64.5, 339.0]), features=DenseVector([0.3565, 0.3414, 0.3207, 0.4588, 0.2445, 1.8606, 0.1943, 2.0013, 0.2761, 0.3248, 1.5135, 0.5613]))]"
      ]
     },
     "execution_count": 37,
     "metadata": {},
     "output_type": "execute_result"
    }
   ],
   "source": [
    "final_data.take(2)"
   ]
  },
  {
   "cell_type": "markdown",
   "metadata": {},
   "source": [
    "# Modeling\n",
    "Split the full dataset into train, test, and validation sets. Test out several of the machine learning methods you learned. Evaluate the accuracy of the various models, tuning parameters as necessary. Determine your winning model based on test accuracy and report results on the validation set. Since the churned users are a fairly small subset, I suggest using F1 score as the metric to optimize."
   ]
  },
  {
   "cell_type": "code",
   "execution_count": 25,
   "metadata": {},
   "outputs": [],
   "source": [
    "final_data2 = final_data.select('label','features')"
   ]
  },
  {
   "cell_type": "code",
   "execution_count": 36,
   "metadata": {},
   "outputs": [
    {
     "data": {
      "text/plain": [
       "[Row(label=0, features=DenseVector([0.2866, 0.2431, 0.2596, 0.3823, 0.214, 1.4775, 0.1943, 0.0, 0.2761, 2.413, 0.9219, 0.4173]))]"
      ]
     },
     "execution_count": 36,
     "metadata": {},
     "output_type": "execute_result"
    }
   ],
   "source": [
    "final_data2.take(1)"
   ]
  },
  {
   "cell_type": "code",
   "execution_count": 26,
   "metadata": {},
   "outputs": [],
   "source": [
    "test,validation = final_data2.randomSplit([0.8, 0.2], seed=50)"
   ]
  },
  {
   "cell_type": "code",
   "execution_count": 27,
   "metadata": {},
   "outputs": [],
   "source": [
    "# Models to train: logistic regression, svm, gradient boosting tree\n",
    "logistic_reg = LogisticRegression(maxIter=10, regParam =0.0)\n",
    "gbt = GBTClassifier(maxDepth = 5, maxIter = 10, seed = 42)\n",
    "svm = LinearSVC (maxIter = 10,  regParam = 0.01)"
   ]
  },
  {
   "cell_type": "code",
   "execution_count": 28,
   "metadata": {},
   "outputs": [
    {
     "data": {
      "text/plain": [
       "[0.7457035409954094, 0.6896357938282245, 0.6931605083686441]"
      ]
     },
     "execution_count": 28,
     "metadata": {},
     "output_type": "execute_result"
    }
   ],
   "source": [
    "#Logistic Regression\n",
    "e1 = MulticlassClassificationEvaluator(metricName='f1')\n",
    "paramGrid = ParamGridBuilder() \\\n",
    "    .addGrid(logistic_reg.regParam,[0.0, 0.05, 0.1]) \\\n",
    "    .build()\n",
    "crossval = CrossValidator(estimator=logistic_reg,\n",
    "                          estimatorParamMaps=paramGrid,\n",
    "                          evaluator=e1,\n",
    "                          numFolds=3)\n",
    "cvModel_q1 = crossval.fit(test)\n",
    "cvModel_q1.avgMetrics"
   ]
  },
  {
   "cell_type": "code",
   "execution_count": 29,
   "metadata": {},
   "outputs": [
    {
     "data": {
      "text/plain": [
       "[0.6693459731200732, 0.6693459731200732, 0.6693459731200732]"
      ]
     },
     "execution_count": 29,
     "metadata": {},
     "output_type": "execute_result"
    }
   ],
   "source": [
    "# Support Vector Machine \n",
    "e1 = MulticlassClassificationEvaluator(metricName='f1')\n",
    "paramGrid = ParamGridBuilder() \\\n",
    "    .addGrid(svm.regParam,[0.01, 0.05, 0.5]) \\\n",
    "    .build()\n",
    "crossval = CrossValidator(estimator=svm,\n",
    "                          estimatorParamMaps=paramGrid,\n",
    "                          evaluator=e1,\n",
    "                          numFolds=3)\n",
    "cvModel_q2 = crossval.fit(test)\n",
    "cvModel_q2.avgMetrics"
   ]
  },
  {
   "cell_type": "code",
   "execution_count": 30,
   "metadata": {},
   "outputs": [
    {
     "data": {
      "text/plain": [
       "[0.7104618008281558, 0.6910921737095559]"
      ]
     },
     "execution_count": 30,
     "metadata": {},
     "output_type": "execute_result"
    }
   ],
   "source": [
    "# Gradient boosted tree\n",
    "e1 = MulticlassClassificationEvaluator(metricName='f1')\n",
    "paramGrid = ParamGridBuilder() \\\n",
    "    .addGrid(gbt.maxDepth,[5, 10]) \\\n",
    "    .build()\n",
    "crossval = CrossValidator(estimator=gbt,\n",
    "                          estimatorParamMaps=paramGrid,\n",
    "                          evaluator=e1,\n",
    "                          numFolds=3)\n",
    "cvModel_q3 = crossval.fit(test)\n",
    "cvModel_q3.avgMetrics"
   ]
  },
  {
   "cell_type": "code",
   "execution_count": 31,
   "metadata": {},
   "outputs": [],
   "source": [
    "gbt_tuned = GBTClassifier(maxDepth=5,maxIter=10,seed=42)\n",
    "gbt_model = gbt_tuned.fit(test)\n",
    "results = gbt_model.transform(validation)"
   ]
  },
  {
   "cell_type": "code",
   "execution_count": 32,
   "metadata": {},
   "outputs": [
    {
     "name": "stdout",
     "output_type": "stream",
     "text": [
      "0.7567567567567568\n"
     ]
    }
   ],
   "source": [
    "evaluator = MulticlassClassificationEvaluator(predictionCol=\"prediction\")\n",
    "print(evaluator.evaluate(results, {evaluator.metricName: \"accuracy\"}))"
   ]
  },
  {
   "cell_type": "code",
   "execution_count": 33,
   "metadata": {},
   "outputs": [
    {
     "name": "stdout",
     "output_type": "stream",
     "text": [
      "0.76094659252554\n"
     ]
    }
   ],
   "source": [
    "print(evaluator.evaluate(results, {evaluator.metricName: \"f1\"}))"
   ]
  },
  {
   "cell_type": "code",
   "execution_count": 34,
   "metadata": {},
   "outputs": [
    {
     "data": {
      "text/plain": [
       "SparseVector(12, {0: 0.1505, 1: 0.0873, 2: 0.0475, 3: 0.1432, 4: 0.051, 5: 0.1959, 6: 0.1047, 7: 0.0103, 8: 0.0316, 9: 0.1139, 10: 0.0637, 11: 0.0003})"
      ]
     },
     "execution_count": 34,
     "metadata": {},
     "output_type": "execute_result"
    }
   ],
   "source": [
    "gbt_model.featureImportances"
   ]
  },
  {
   "cell_type": "code",
   "execution_count": 35,
   "metadata": {},
   "outputs": [
    {
     "data": {
      "image/png": "[encoded data removed]",
      "text/plain": [
       "<matplotlib.figure.Figure at 0x7f596bcda710>"
      ]
     },
     "metadata": {
      "needs_background": "light"
     },
     "output_type": "display_data"
    }
   ],
   "source": [
    "importances  = [ 0.134,0.0408,0.1519,0.0639,0.0946,0.2436,0.0988,0.0301,0.1421]\n",
    "feature = [\"listen_time\", \"num_song\", \"num_thumb_down\", \\\n",
    "          'num_thumb_up','add_to_playlist','lt','add_friend','help','rolladvert']\n",
    "y_pos = np.arange(len(feature))\n",
    " \n",
    "plt.barh(y_pos, importances, align='center')\n",
    "plt.yticks(y_pos, feature)\n",
    "plt.xlabel('Importance Score')\n",
    "plt.title('GBT Feature Importances')\n",
    "plt.savefig('GBT feature Importance.png', dpi=300)"
   ]
  },
  {
   "cell_type": "markdown",
   "metadata": {},
   "source": [
    "# Final Steps\n",
    "Clean up your code, adding comments and renaming variables to make the code easier to read and maintain. Refer to the Spark Project Overview page and Data Scientist Capstone Project Rubric to make sure you are including all components of the capstone project and meet all expectations. Remember, this includes thorough documentation in a README file in a Github repository, as well as a web app or blog post."
   ]
  },
  {
   "cell_type": "code",
   "execution_count": null,
   "metadata": {},
   "outputs": [],
   "source": []
  }
 ],
 "metadata": {
  "kernelspec": {
   "display_name": "Python 3",
   "language": "python",
   "name": "python3"
  },
  "language_info": {
   "codemirror_mode": {
    "name": "ipython",
    "version": 3
   },
   "file_extension": ".py",
   "mimetype": "text/x-python",
   "name": "python",
   "nbconvert_exporter": "python",
   "pygments_lexer": "ipython3",
   "version": "3.7.4"
  }
 },
 "nbformat": 4,
 "nbformat_minor": 2
}
